{
 "cells": [
  {
   "cell_type": "code",
   "execution_count": 1,
   "metadata": {},
   "outputs": [],
   "source": [
    "import cv2\n",
    "import pandas as pd\n",
    "import face_recognition as fr"
   ]
  },
  {
   "cell_type": "code",
   "execution_count": 3,
   "metadata": {},
   "outputs": [
    {
     "ename": "NameError",
     "evalue": "name 'old_data' is not defined",
     "output_type": "error",
     "traceback": [
      "\u001b[1;31m---------------------------------------------------------------------------\u001b[0m",
      "\u001b[1;31mNameError\u001b[0m                                 Traceback (most recent call last)",
      "Cell \u001b[1;32mIn[3], line 41\u001b[0m\n\u001b[0;32m     39\u001b[0m     \u001b[39mprint\u001b[39m(e)\n\u001b[0;32m     40\u001b[0m \u001b[39melse\u001b[39;00m:\n\u001b[1;32m---> 41\u001b[0m     enc_old \u001b[39m=\u001b[39mold_data[\u001b[39m'\u001b[39m\u001b[39mencoding\u001b[39m\u001b[39m'\u001b[39m]\u001b[39m.\u001b[39mvalues\u001b[39m.\u001b[39mtolist()\n\u001b[0;32m     42\u001b[0m     names_old \u001b[39m=\u001b[39m old_data[\u001b[39m'\u001b[39m\u001b[39mnames\u001b[39m\u001b[39m'\u001b[39m]\u001b[39m.\u001b[39mvalues\u001b[39m.\u001b[39mtolist()\n\u001b[0;32m     43\u001b[0m     enc\u001b[39m=\u001b[39menc_old \u001b[39m+\u001b[39menc\n",
      "\u001b[1;31mNameError\u001b[0m: name 'old_data' is not defined"
     ]
    },
    {
     "ename": "",
     "evalue": "",
     "output_type": "error",
     "traceback": [
      "\u001b[1;31mThe Kernel crashed while executing code in the the current cell or a previous cell. Please review the code in the cell(s) to identify a possible cause of the failure. Click <a href='https://aka.ms/vscodeJupyterKernelCrash'>here</a> for more info. View Jupyter <a href='command:jupyter.viewOutput'>log</a> for further details."
     ]
    }
   ],
   "source": [
    "fd=cv2.CascadeClassifier(\n",
    "    cv2.data.haarcascades +\n",
    "    'haarcascade_frontalface_default.xml'\n",
    ")\n",
    "vid = cv2.VideoCapture(0)\n",
    "name = input('Enter your name:')\n",
    "frameLimit = 20\n",
    "frameCount = 0\n",
    "names = []\n",
    "enc = []\n",
    "while True:\n",
    "    flag, img = vid.read()\n",
    "    if flag:\n",
    "        img_gray = cv2.cvtColor(img, cv2.COLOR_BGR2GRAY)\n",
    "        faces = fd.detectMultiScale(\n",
    "            img_gray,\n",
    "            scaleFactor = 1.1,\n",
    "            minNeighbors = 5,\n",
    "            minSize = (50,50)\n",
    "        )\n",
    "\n",
    "        if len(faces) == 1:\n",
    "            x,y,w,h = faces[0]\n",
    "            img_face = img[y:y+h,x:x+w,:].copy()\n",
    "            img_face = cv2.resize(img_face,(400,400), cv2.INTER_CUBIC)\n",
    "            face_encoding = fr.face_encodings(img_face)\n",
    "            if len(face_encoding) == 1:\n",
    "                enc.append(face_encoding[0].tolist())\n",
    "                names.append(name)\n",
    "                frameCount += 1\n",
    "                cv2.putText(\n",
    "                    img,str(frameCount) ,(30,30),\n",
    "                    cv2.FONT_HERSHEY_COMPLEX ,1.5, (0,0,255), 5\n",
    "                )\n",
    "                if frameCount == frameLimit:\n",
    "                    try:\n",
    "                        old_dat = pd.read_csv('face_data.csv',index_col=0,sep='\\t')\n",
    "                    except Exception as e:\n",
    "                        print(e)\n",
    "                    else:\n",
    "                        enc_old =old_data['encoding'].values.tolist()\n",
    "                        names_old = old_data['names'].values.tolist()\n",
    "                        enc=enc_old +enc\n",
    "                        names = names_old +names \n",
    "                    data ={'names':names,'encoding':enc}\n",
    "                    pd.DataFrame(data).to_csv('face_data.csv',sep='\\t')\n",
    "                    break\n",
    "        for x,y,w,h in faces:\n",
    "            cv2.rectangle(\n",
    "                img, \n",
    "                pt1=(x,y), pt2=(x+w, y+h), \n",
    "                color = (0,0,255),\n",
    "                thickness=8\n",
    "            )\n",
    "        cv2.imshow('Preview', img)\n",
    "        key = cv2.waitKey(1)\n",
    "        if key == ord('q'):\n",
    "            break\n",
    "# data = {'names': names, 'encoding':enc}\n",
    "# pd.DataFrame(data).to_csv('face_data.csv',sep='\\t')\n",
    "cv2.destroyAllWindows()\n",
    "vid.release()"
   ]
  }
 ],
 "metadata": {
  "kernelspec": {
   "display_name": "Python 3",
   "language": "python",
   "name": "python3"
  },
  "language_info": {
   "codemirror_mode": {
    "name": "ipython",
    "version": 3
   },
   "file_extension": ".py",
   "mimetype": "text/x-python",
   "name": "python",
   "nbconvert_exporter": "python",
   "pygments_lexer": "ipython3",
   "version": "3.10.11"
  },
  "orig_nbformat": 4
 },
 "nbformat": 4,
 "nbformat_minor": 2
}
